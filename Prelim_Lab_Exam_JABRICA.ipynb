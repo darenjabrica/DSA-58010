{
  "nbformat": 4,
  "nbformat_minor": 0,
  "metadata": {
    "colab": {
      "name": "Prelim_Lab_Exam_JABRICA.ipynb",
      "provenance": [],
      "authorship_tag": "ABX9TyPgRjkKLMXMWsui5ZjxzeK/",
      "include_colab_link": true
    },
    "kernelspec": {
      "name": "python3",
      "display_name": "Python 3"
    },
    "language_info": {
      "name": "python"
    }
  },
  "cells": [
    {
      "cell_type": "markdown",
      "metadata": {
        "id": "view-in-github",
        "colab_type": "text"
      },
      "source": [
        "<a href=\"https://colab.research.google.com/github/darenjabrica/DSA-58010/blob/main/Prelim_Lab_Exam_JABRICA.ipynb\" target=\"_parent\"><img src=\"https://colab.research.google.com/assets/colab-badge.svg\" alt=\"Open In Colab\"/></a>"
      ]
    },
    {
      "cell_type": "code",
      "execution_count": 3,
      "metadata": {
        "colab": {
          "base_uri": "https://localhost:8080/"
        },
        "id": "IAcO9SrLpcea",
        "outputId": "7a035b03-28e5-46c8-92f9-37342e4cceca"
      },
      "outputs": [
        {
          "output_type": "stream",
          "name": "stdout",
          "text": [
            "Adding the test scores as given below if the number is even\n",
            " \n",
            "The test scores are [26, 49, 98, 87, 62, 75]\n",
            "The sum of the even number is: 186\n"
          ]
        }
      ],
      "source": [
        "print(\"Adding the test scores as given below if the number is even\")\n",
        "print(\" \")\n",
        "print(\"The test scores are [26, 49, 98, 87, 62, 75]\")\n",
        "scores = [26, 49, 98, 87, 62, 75]\n",
        "sum = 0\n",
        "\n",
        "for i in scores:\n",
        "    if i % 2  == 0:\n",
        "        sum += i \n",
        "        \n",
        "print(\"The sum of the even number is:\",sum)"
      ]
    }
  ]
}