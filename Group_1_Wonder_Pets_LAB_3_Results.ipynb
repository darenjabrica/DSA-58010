{
  "nbformat": 4,
  "nbformat_minor": 0,
  "metadata": {
    "colab": {
      "provenance": [],
      "authorship_tag": "ABX9TyOqBWxqHbvKOCekHcAEoq0o",
      "include_colab_link": true
    },
    "kernelspec": {
      "name": "python3",
      "display_name": "Python 3"
    },
    "language_info": {
      "name": "python"
    }
  },
  "cells": [
    {
      "cell_type": "markdown",
      "metadata": {
        "id": "view-in-github",
        "colab_type": "text"
      },
      "source": [
        "<a href=\"https://colab.research.google.com/github/darenjabrica/DSA-58010/blob/main/Group_1_Wonder_Pets_LAB_3_Results.ipynb\" target=\"_parent\"><img src=\"https://colab.research.google.com/assets/colab-badge.svg\" alt=\"Open In Colab\"/></a>"
      ]
    },
    {
      "cell_type": "markdown",
      "source": [
        "## Let A be an array of size n ≥ 2 containing integers from 1 to n−1, inclusive, with exactly one repeated. Describe a fast algorithm for finding the integer in A that is repeated."
      ],
      "metadata": {
        "id": "cwE8zH3ODHVk"
      }
    },
    {
      "cell_type": "code",
      "execution_count": 3,
      "metadata": {
        "colab": {
          "base_uri": "https://localhost:8080/"
        },
        "id": "77oIpgZIJMlb",
        "outputId": "0cdfba98-9c88-445b-97d4-d5872d02455c"
      },
      "outputs": [
        {
          "output_type": "stream",
          "name": "stdout",
          "text": [
            "The integer in A that is repeated is: 1\n"
          ]
        }
      ],
      "source": [
        "A = [1, 2, 4, 5, 6, 7, 8, 9, 10, 11, 1, 12, 17, 88 ,99]\n",
        "\n",
        "for i in range(0, len(A)):    \n",
        "    for j in range(i+1, len(A)):    \n",
        "        if(A[i] == A[j]):    \n",
        "            print(\"The integer in A that is repeated is:\",A[j]);"
      ]
    },
    {
      "cell_type": "markdown",
      "source": [
        "## Write a program that can perform the Caesar cipher for English messages that include both upper- and lowercase characters."
      ],
      "metadata": {
        "id": "G7ipuXoFDVBB"
      }
    },
    {
      "cell_type": "code",
      "source": [
        "def magicshifter(text, shift, alphabets):\n",
        "\n",
        "  if shift > 27: \n",
        "    return \"Shift number exceeded the number of alphabets\"\n",
        "\n",
        "  else:\n",
        "    def theshifter(alphabets):\n",
        "      return alphabets[shift:] + alphabets[:shift]\n",
        "\n",
        "\n",
        "    shifted_alphabets = tuple(map(theshifter, alphabets))\n",
        "    final_alphabet = ','.join(alphabets)\n",
        "    final_shifted_alphabet = ','.join(shifted_alphabets)\n",
        "    table = text.maketrans(final_alphabet, final_shifted_alphabet)\n",
        "    \n",
        "    return text.translate(table)\n",
        "\n",
        "upperalphabet = \"ABCDEFGHIJKLMNOPQRSTUVWXYZ\"  ## Uppercase Alphabet\n",
        "loweralphabet = \"abcdefghijklmnopqrstuvwxyz\"  ## Lowercase Alphabet\n",
        "\n",
        "text = input(\"Enter Text: \")\n",
        "shift = int(input(\"Number of shift: \"))\n",
        "\n",
        "print(\"Ciphertext:\",magicshifter(text,shift,[loweralphabet, upperalphabet]))"
      ],
      "metadata": {
        "colab": {
          "base_uri": "https://localhost:8080/"
        },
        "id": "_4sIE1F5DYcC",
        "outputId": "13b644dd-a0be-438d-e051-e0942b89cee2"
      },
      "execution_count": 4,
      "outputs": [
        {
          "output_type": "stream",
          "name": "stdout",
          "text": [
            "Enter Text: Go, Wonder Pets!\n",
            "Number of shift: 7\n",
            "Ciphertext: Nv, Dvukly Wlaz!\n"
          ]
        }
      ]
    }
  ]
}