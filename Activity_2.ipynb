{
  "nbformat": 4,
  "nbformat_minor": 0,
  "metadata": {
    "colab": {
      "provenance": [],
      "authorship_tag": "ABX9TyPx0to5vyRWFWb5U0cHrmSx",
      "include_colab_link": true
    },
    "kernelspec": {
      "name": "python3",
      "display_name": "Python 3"
    },
    "language_info": {
      "name": "python"
    }
  },
  "cells": [
    {
      "cell_type": "markdown",
      "metadata": {
        "id": "view-in-github",
        "colab_type": "text"
      },
      "source": [
        "<a href=\"https://colab.research.google.com/github/darenjabrica/DSA-58010/blob/main/Activity_2.ipynb\" target=\"_parent\"><img src=\"https://colab.research.google.com/assets/colab-badge.svg\" alt=\"Open In Colab\"/></a>"
      ]
    },
    {
      "cell_type": "markdown",
      "source": [
        "1. Write a Python program to create a singly linked list of prime numbers less than 20. By iterating through the list, display all the prime numbers, the head, and the tail of the list. (using Google Colab)\n",
        "2. Save your source codes to GitHub\n",
        "3. Name it as Activity 2 and copy the link of your GitHub repository DSA 58010 here"
      ],
      "metadata": {
        "id": "dMdH28JmQBHj"
      }
    },
    {
      "cell_type": "code",
      "execution_count": 4,
      "metadata": {
        "colab": {
          "base_uri": "https://localhost:8080/"
        },
        "id": "M6JFO-aNIAJx",
        "outputId": "be3d4344-abd3-4e8d-9fb2-171fbdb161fe"
      },
      "outputs": [
        {
          "output_type": "stream",
          "name": "stdout",
          "text": [
            "2\n",
            "3\n",
            "5\n",
            "7\n",
            "11\n",
            "13\n",
            "17\n",
            "19\n"
          ]
        }
      ],
      "source": [
        "class PrimeNumbers:\n",
        "  def __init__(self,data):\n",
        "    self.data = data\n",
        "    self.next = None\n",
        "\n",
        "class LinkedList:\n",
        "  def __init__(self):\n",
        "    self.head = None\n",
        "  def printList(self):\n",
        "    temp = self.head\n",
        "    while(temp):\n",
        "      print(temp.data)\n",
        "      temp = temp.next\n",
        "\n",
        "plist = LinkedList()\n",
        "\n",
        "plist.head = PrimeNumbers(\"2\")\n",
        "second = PrimeNumbers(\"3\")\n",
        "third = PrimeNumbers(\"5\")\n",
        "fourth = PrimeNumbers(\"7\")\n",
        "fifth = PrimeNumbers(\"11\")\n",
        "sixth = PrimeNumbers(\"13\")\n",
        "seventh = PrimeNumbers(\"17\")\n",
        "plist.tail = PrimeNumbers(\"19\")\n",
        "\n",
        "plist.head.next = second\n",
        "second.next = third\n",
        "third.next = fourth\n",
        "fourth.next = fifth\n",
        "fifth.next = sixth\n",
        "sixth.next = seventh\n",
        "seventh.next = plist.tail\n",
        "\n",
        "plist.printList()"
      ]
    }
  ]
}