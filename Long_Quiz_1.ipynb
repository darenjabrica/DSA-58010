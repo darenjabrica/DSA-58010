{
  "nbformat": 4,
  "nbformat_minor": 0,
  "metadata": {
    "colab": {
      "provenance": [],
      "authorship_tag": "ABX9TyMruypGWO+Al6s4rUiRwRtj",
      "include_colab_link": true
    },
    "kernelspec": {
      "name": "python3",
      "display_name": "Python 3"
    },
    "language_info": {
      "name": "python"
    }
  },
  "cells": [
    {
      "cell_type": "markdown",
      "metadata": {
        "id": "view-in-github",
        "colab_type": "text"
      },
      "source": [
        "<a href=\"https://colab.research.google.com/github/darenjabrica/DSA-58010/blob/main/Long_Quiz_1.ipynb\" target=\"_parent\"><img src=\"https://colab.research.google.com/assets/colab-badge.svg\" alt=\"Open In Colab\"/></a>"
      ]
    },
    {
      "cell_type": "code",
      "execution_count": 2,
      "metadata": {
        "id": "_U41p1a9OMa7",
        "colab": {
          "base_uri": "https://localhost:8080/"
        },
        "outputId": "dae16c0f-da93-4cfa-a11f-75e67d8ae396"
      },
      "outputs": [
        {
          "output_type": "stream",
          "name": "stdout",
          "text": [
            "Full Name : ['Daren', 'Jabrica']\n",
            "Reverse order: ['Jabrica', 'Daren']\n"
          ]
        }
      ],
      "source": [
        "arr = [\"Daren\",\"Jabrica\"]\n",
        "print(\"Full Name :\",arr)\n",
        " \n",
        "res = arr[::-1] \n",
        "print(\"Reverse order:\",res)"
      ]
    }
  ]
}