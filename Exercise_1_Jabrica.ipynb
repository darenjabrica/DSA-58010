{
  "nbformat": 4,
  "nbformat_minor": 0,
  "metadata": {
    "colab": {
      "name": "Exercise_1_Jabrica.ipynb",
      "provenance": [],
      "authorship_tag": "ABX9TyN2IuCyIDI+ZdFAiE5UQD6L",
      "include_colab_link": true
    },
    "kernelspec": {
      "name": "python3",
      "display_name": "Python 3"
    },
    "language_info": {
      "name": "python"
    }
  },
  "cells": [
    {
      "cell_type": "markdown",
      "metadata": {
        "id": "view-in-github",
        "colab_type": "text"
      },
      "source": [
        "<a href=\"https://colab.research.google.com/github/darenjabrica/DSA-58010/blob/main/Exercise_1_Jabrica.ipynb\" target=\"_parent\"><img src=\"https://colab.research.google.com/assets/colab-badge.svg\" alt=\"Open In Colab\"/></a>"
      ]
    },
    {
      "cell_type": "markdown",
      "source": [
        "Solving Area with Radius"
      ],
      "metadata": {
        "id": "G6CH1Z4QY74_"
      }
    },
    {
      "cell_type": "code",
      "execution_count": 2,
      "metadata": {
        "id": "gNwgcWEiCyow",
        "colab": {
          "base_uri": "https://localhost:8080/"
        },
        "outputId": "f61cd151-fcf0-4d4b-9496-50a30c6c076c"
      },
      "outputs": [
        {
          "output_type": "stream",
          "name": "stdout",
          "text": [
            "17\n",
            "The area of the circle is 907.46\n"
          ]
        }
      ],
      "source": [
        "class Circle():\n",
        "  def __init__ (self, radius):\n",
        "    self.radius = int (radius)\n",
        "\n",
        "  def Area (self):\n",
        "    return pi * (self.radius ** 2)\n",
        "\n",
        "  def display (self):\n",
        "    print (\"The area of the circle is\", self.Area())\n",
        "\n",
        "pi = 3.14\n",
        "pizza = Circle (input())\n",
        "pizza.display()"
      ]
    },
    {
      "cell_type": "markdown",
      "source": [
        "\n",
        "Solving Area with Diameter"
      ],
      "metadata": {
        "id": "JqqME0fkZBXs"
      }
    },
    {
      "cell_type": "code",
      "source": [
        "class Circle():\n",
        "  def __init__ (self, diameter):\n",
        "    self.diameter = int (diameter)\n",
        "\n",
        "  def Area (self):\n",
        "    return pi * (self.diameter ** 2) / 4\n",
        "\n",
        "  def display (self):\n",
        "    print (\"The area of the circle is\", self.Area())\n",
        "\n",
        "pi = 3.14\n",
        "pizza = Circle (input())\n",
        "pizza.display()"
      ],
      "metadata": {
        "colab": {
          "base_uri": "https://localhost:8080/"
        },
        "id": "bvxTKfXQZEw6",
        "outputId": "ea04f4ba-f0ef-4c1f-8a8f-9782a41789b8"
      },
      "execution_count": 4,
      "outputs": [
        {
          "output_type": "stream",
          "name": "stdout",
          "text": [
            "6\n",
            "The area of the circle is 28.26\n"
          ]
        }
      ]
    }
  ]
}