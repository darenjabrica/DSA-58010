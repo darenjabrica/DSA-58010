{
  "nbformat": 4,
  "nbformat_minor": 0,
  "metadata": {
    "colab": {
      "provenance": [],
      "authorship_tag": "ABX9TyPjagSjDj2UH1MjNAZ2noO3",
      "include_colab_link": true
    },
    "kernelspec": {
      "name": "python3",
      "display_name": "Python 3"
    },
    "language_info": {
      "name": "python"
    }
  },
  "cells": [
    {
      "cell_type": "markdown",
      "metadata": {
        "id": "view-in-github",
        "colab_type": "text"
      },
      "source": [
        "<a href=\"https://colab.research.google.com/github/darenjabrica/DSA-58010/blob/main/GROUP_5_DSA_LAB_2.ipynb\" target=\"_parent\"><img src=\"https://colab.research.google.com/assets/colab-badge.svg\" alt=\"Open In Colab\"/></a>"
      ]
    },
    {
      "cell_type": "code",
      "execution_count": 1,
      "metadata": {
        "colab": {
          "base_uri": "https://localhost:8080/"
        },
        "id": "7cwPLoFXAcX4",
        "outputId": "fd958b82-cc4b-4238-a923-461635bf33dd"
      },
      "outputs": [
        {
          "output_type": "stream",
          "name": "stdout",
          "text": [
            "Minimum Value of the Sequence: None\n",
            "Maximum Value of the Sequence: None\n"
          ]
        }
      ],
      "source": [
        "def Minimum(values):\n",
        "  if len(values) == 0:\n",
        "         return None\n",
        "  \n",
        "  if len(values) == 1:\n",
        "    return values [0]\n",
        "    return min(values[0], Minimum(values[1:]))\n",
        "\n",
        "def Maximum(values):\n",
        "  if len(values) == 0:\n",
        "    return None\n",
        "  \n",
        "  if len(values) == 1:\n",
        "    return values [0]\n",
        "    return max(values[0], Maximum(values[1:]))\n",
        "\n",
        "print(\"Minimum Value of the Sequence:\",Minimum ([1,2,3,4,5]))\n",
        "print(\"Maximum Value of the Sequence:\",Maximum ([1,2,3,4,5]))"
      ]
    }
  ]
}