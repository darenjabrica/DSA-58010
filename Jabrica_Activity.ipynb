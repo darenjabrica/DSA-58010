{
  "nbformat": 4,
  "nbformat_minor": 0,
  "metadata": {
    "colab": {
      "provenance": [],
      "authorship_tag": "ABX9TyOybXTsH1x9H9JCEncIfYJz",
      "include_colab_link": true
    },
    "kernelspec": {
      "name": "python3",
      "display_name": "Python 3"
    },
    "language_info": {
      "name": "python"
    }
  },
  "cells": [
    {
      "cell_type": "markdown",
      "metadata": {
        "id": "view-in-github",
        "colab_type": "text"
      },
      "source": [
        "<a href=\"https://colab.research.google.com/github/darenjabrica/DSA-58010/blob/main/Jabrica_Activity.ipynb\" target=\"_parent\"><img src=\"https://colab.research.google.com/assets/colab-badge.svg\" alt=\"Open In Colab\"/></a>"
      ]
    },
    {
      "cell_type": "markdown",
      "source": [
        "1. Write a Python program to create an array of 10 integers and display the array items. Access individual elements through indexes and compute for the sum."
      ],
      "metadata": {
        "id": "Si09WZlSM2eB"
      }
    },
    {
      "cell_type": "code",
      "execution_count": 30,
      "metadata": {
        "colab": {
          "base_uri": "https://localhost:8080/"
        },
        "id": "wxY72jOFMU2f",
        "outputId": "223c830f-7b71-493c-e877-ead230bc074d"
      },
      "outputs": [
        {
          "output_type": "stream",
          "name": "stdout",
          "text": [
            "[2, 7, 9, 11, 15, 17, 21, 23, 24, 31]\n",
            "the sum of the number is: 160\n"
          ]
        }
      ],
      "source": [
        "num1 = [2, 7, 9, 11, 15, 17, 21, 23, 24, 31] \n",
        "sum = 0\n",
        "for x in num1:\n",
        "  sum += x \n",
        "\n",
        "print(num1)\n",
        "print(\"the sum of the number is:\" ,sum)"
      ]
    },
    {
      "cell_type": "markdown",
      "source": [
        "2. Write a Python program to append a new item to the end of the array. Original array: numbers = [1, 2, 3, 4, 5, 6, 7, 8, 9, 10]"
      ],
      "metadata": {
        "id": "G1aorYY5NThF"
      }
    },
    {
      "cell_type": "code",
      "source": [
        "num2 = [1, 2, 3, 4, 5, 6, 7, 8, 9, 10]\n",
        "num2.append(201)\n",
        "print (num2)"
      ],
      "metadata": {
        "colab": {
          "base_uri": "https://localhost:8080/"
        },
        "id": "THNVgkvaMY2f",
        "outputId": "d5af0657-20eb-407d-e36b-27ee9eecdd69"
      },
      "execution_count": 31,
      "outputs": [
        {
          "output_type": "stream",
          "name": "stdout",
          "text": [
            "[1, 2, 3, 4, 5, 6, 7, 8, 9, 10, 201]\n"
          ]
        }
      ]
    },
    {
      "cell_type": "markdown",
      "source": [
        "3. Write a Python program to insert a new item before the second element in an existing array. Original array: numbers = [1, 2, 3, 4, 5, 6, 7, 8, 9, 10]"
      ],
      "metadata": {
        "id": "_GNlPb3zNl5M"
      }
    },
    {
      "cell_type": "code",
      "source": [
        "num3 = [1, 2, 3, 4, 5, 6, 7, 8, 9, 10]\n",
        "num3.insert(1,87000)\n",
        "print (num3)"
      ],
      "metadata": {
        "colab": {
          "base_uri": "https://localhost:8080/"
        },
        "id": "kF7FurvFNsNW",
        "outputId": "2bc297d3-1c96-4f61-980c-6347f4bedb03"
      },
      "execution_count": 29,
      "outputs": [
        {
          "output_type": "stream",
          "name": "stdout",
          "text": [
            "[1, 87000, 2, 3, 4, 5, 6, 7, 8, 9, 10]\n"
          ]
        }
      ]
    },
    {
      "cell_type": "markdown",
      "source": [
        "4. Write a Python program to reverse the order of the items in the array.Original array: numbers = [5, 4, 3, 2, 1]"
      ],
      "metadata": {
        "id": "15kFDpx7Ns3l"
      }
    },
    {
      "cell_type": "code",
      "source": [
        "num4 = [5, 4, 3, 2, 1]\n",
        "num4.reverse()\n",
        "print (num4)"
      ],
      "metadata": {
        "colab": {
          "base_uri": "https://localhost:8080/"
        },
        "id": "DWQV2yQLN1eG",
        "outputId": "75945170-b49e-48c7-e86d-b07740ff3302"
      },
      "execution_count": 32,
      "outputs": [
        {
          "output_type": "stream",
          "name": "stdout",
          "text": [
            "[1, 2, 3, 4, 5]\n"
          ]
        }
      ]
    },
    {
      "cell_type": "markdown",
      "source": [
        "5. Write a Python program to get the length of the array. Original array: numbers = [5, 4, 3, 2, 1]\n"
      ],
      "metadata": {
        "id": "ZbETQzc_N2La"
      }
    },
    {
      "cell_type": "code",
      "source": [
        "num5 = [5, 4, 3, 2, 1]\n",
        "d=len(num5)\n",
        "print(d)"
      ],
      "metadata": {
        "colab": {
          "base_uri": "https://localhost:8080/"
        },
        "id": "4j1Am3hhN7ny",
        "outputId": "8f73c0e7-f7d1-40e1-9b5b-9465897462d3"
      },
      "execution_count": 33,
      "outputs": [
        {
          "output_type": "stream",
          "name": "stdout",
          "text": [
            "5\n"
          ]
        }
      ]
    }
  ]
}