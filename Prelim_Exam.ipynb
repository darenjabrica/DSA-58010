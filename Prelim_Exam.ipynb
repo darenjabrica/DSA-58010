{
  "nbformat": 4,
  "nbformat_minor": 0,
  "metadata": {
    "colab": {
      "provenance": [],
      "authorship_tag": "ABX9TyMrG9xx0emOCvVZit9EhmXS",
      "include_colab_link": true
    },
    "kernelspec": {
      "name": "python3",
      "display_name": "Python 3"
    },
    "language_info": {
      "name": "python"
    }
  },
  "cells": [
    {
      "cell_type": "markdown",
      "metadata": {
        "id": "view-in-github",
        "colab_type": "text"
      },
      "source": [
        "<a href=\"https://colab.research.google.com/github/darenjabrica/DSA-58010/blob/main/Prelim_Exam.ipynb\" target=\"_parent\"><img src=\"https://colab.research.google.com/assets/colab-badge.svg\" alt=\"Open In Colab\"/></a>"
      ]
    },
    {
      "cell_type": "code",
      "execution_count": 15,
      "metadata": {
        "colab": {
          "base_uri": "https://localhost:8080/"
        },
        "id": "vPkSv3lNTOl5",
        "outputId": "ae608b70-9500-4f93-f84f-8b1dea02b5a2"
      },
      "outputs": [
        {
          "output_type": "stream",
          "name": "stdout",
          "text": [
            "[1, 2, 3, 4, 5, 6, 7, 8, 9, 10]\n",
            "Even numbers in the A:  5\n"
          ]
        }
      ],
      "source": [
        "A = [1,2,3,4,5,6,7,8,9,10]\n",
        " \n",
        "no_even = 0\n",
        " \n",
        "for num in A:\n",
        "     \n",
        "    if num % 2 == 0:\n",
        "        no_even += 1\n",
        "\n",
        "print(A)\n",
        "print(\"Even numbers in the A: \", no_even)"
      ]
    }
  ]
}